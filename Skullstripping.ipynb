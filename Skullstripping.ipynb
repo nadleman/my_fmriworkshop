{
 "cells": [
  {
   "cell_type": "markdown",
   "metadata": {},
   "source": [
    "## Skullstripping with BET"
   ]
  },
  {
   "cell_type": "markdown",
   "metadata": {},
   "source": [
    "In this tutorial I will show how to skullstrip multiple files with FSL BET\n",
    "\n",
    "This is another line"
   ]
  },
  {
   "cell_type": "code",
   "execution_count": 21,
   "metadata": {
    "collapsed": true
   },
   "outputs": [],
   "source": [
    "from subprocess import check_call\n",
    "import os.path\n",
    "from glob import glob"
   ]
  },
  {
   "cell_type": "code",
   "execution_count": 6,
   "metadata": {},
   "outputs": [
    {
     "data": {
      "text/plain": [
       "['make_reg_dir.py', 'my_prepro.py', 'Skullstripping.ipynb']"
      ]
     },
     "execution_count": 6,
     "metadata": {},
     "output_type": "execute_result"
    }
   ],
   "source": [
    "glob(\"*\")"
   ]
  },
  {
   "cell_type": "code",
   "execution_count": 18,
   "metadata": {},
   "outputs": [],
   "source": [
    "t1w = \"/Users/adleman/Downloads/data/sub-10159/anat/sub-10159_T1w.nii.gz\""
   ]
  },
  {
   "cell_type": "code",
   "execution_count": 15,
   "metadata": {},
   "outputs": [],
   "source": [
    "check_call?"
   ]
  },
  {
   "cell_type": "code",
   "execution_count": 38,
   "metadata": {},
   "outputs": [
    {
     "name": "stdout",
     "output_type": "stream",
     "text": [
      "/tmp/sub-10159_T1w_brain\n",
      "/tmp/sub-10171_T1w_brain\n",
      "/tmp/sub-10189_T1w_brain\n",
      "/tmp/sub-10193_T1w_brain\n",
      "/tmp/sub-10206_T1w_brain\n",
      "/tmp/sub-10217_T1w_brain\n",
      "/tmp/sub-10225_T1w_brain\n",
      "/tmp/sub-10227_T1w_brain\n",
      "/tmp/sub-10228_T1w_brain\n",
      "/tmp/sub-10235_T1w_brain\n",
      "/tmp/sub-10249_T1w_brain\n",
      "/tmp/sub-10269_T1w_brain\n",
      "/tmp/sub-10271_T1w_brain\n",
      "/tmp/sub-10273_T1w_brain\n",
      "/tmp/sub-10274_T1w_brain\n",
      "/tmp/sub-10280_T1w_brain\n",
      "/tmp/sub-10290_T1w_brain\n",
      "/tmp/sub-10292_T1w_brain\n"
     ]
    }
   ],
   "source": [
    "output_dir = \"/tmp\"\n",
    "for input_file in glob(\"/Users/adleman/Downloads/data/sub-*/anat/*.nii.gz\"):\n",
    "    #my_cmd_template = \"bet {input_file} {output_file}\"\n",
    "    directory, file_name = os.path.split(input_file)\n",
    "    list_of_tokens = file_name.split(\".\")\n",
    "    out_file_name = list_of_tokens[0] + \"_brain\"\n",
    "    out_path = os.path.join(output_dir, out_file_name)\n",
    "    print(out_path)\n",
    "    #check_call(\"bet /Users/adleman/Downloads/data/sub-10159/anat/sub-10159_T1w.nii.gz.nii.gz /tmp/sub-01_T1w_brain.nii.gz\", shell=True)"
   ]
  },
  {
   "cell_type": "code",
   "execution_count": 35,
   "metadata": {},
   "outputs": [
    {
     "name": "stdout",
     "output_type": "stream",
     "text": [
      "/Users/adleman/Downloads/data/sub-10159/anat/sub-10159_T1w.nii.gz\r\n"
     ]
    }
   ],
   "source": [
    "!ls /Users/adleman/Downloads/data/sub-10159/anat/*.nii.gz"
   ]
  },
  {
   "cell_type": "code",
   "execution_count": 23,
   "metadata": {},
   "outputs": [
    {
     "data": {
      "text/plain": [
       "('/Users/adleman/Downloads/data/sub-10159/anat', 'sub-10159_T1w.nii.gz.nii.gz')"
      ]
     },
     "execution_count": 23,
     "metadata": {},
     "output_type": "execute_result"
    }
   ],
   "source": [
    "os.path.split(\"/Users/adleman/Downloads/data/sub-10159/anat/sub-10159_T1w.nii.gz\")"
   ]
  },
  {
   "cell_type": "code",
   "execution_count": 28,
   "metadata": {},
   "outputs": [
    {
     "data": {
      "text/plain": [
       "'sub-10159_T1w.nii.gz'"
      ]
     },
     "execution_count": 28,
     "metadata": {},
     "output_type": "execute_result"
    }
   ],
   "source": [
    "directory, file_name = os.path.split(\"/Users/adleman/Downloads/data/sub-10159/anat/sub-10159_T1w.nii.gz\")\n",
    "file_name"
   ]
  },
  {
   "cell_type": "code",
   "execution_count": 32,
   "metadata": {},
   "outputs": [
    {
     "data": {
      "text/plain": [
       "'sub-10159_T1w'"
      ]
     },
     "execution_count": 32,
     "metadata": {},
     "output_type": "execute_result"
    }
   ],
   "source": [
    "list_of_tokens = \"sub-10159_T1w.nii.gz\".split(\".\")\n",
    "list_of_tokens[0]"
   ]
  },
  {
   "cell_type": "code",
   "execution_count": 33,
   "metadata": {},
   "outputs": [
    {
     "data": {
      "text/plain": [
       "'dir1/dir2/dir3'"
      ]
     },
     "execution_count": 33,
     "metadata": {},
     "output_type": "execute_result"
    }
   ],
   "source": [
    "os.path.join(\"dir1\",\"dir2\",\"dir3\")"
   ]
  },
  {
   "cell_type": "code",
   "execution_count": null,
   "metadata": {
    "collapsed": true
   },
   "outputs": [],
   "source": []
  }
 ],
 "metadata": {
  "kernelspec": {
   "display_name": "Python 3",
   "language": "python",
   "name": "python3"
  },
  "language_info": {
   "codemirror_mode": {
    "name": "ipython",
    "version": 3
   },
   "file_extension": ".py",
   "mimetype": "text/x-python",
   "name": "python",
   "nbconvert_exporter": "python",
   "pygments_lexer": "ipython3",
   "version": "3.6.3"
  }
 },
 "nbformat": 4,
 "nbformat_minor": 2
}
